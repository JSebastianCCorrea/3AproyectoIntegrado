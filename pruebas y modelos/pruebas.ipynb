{
 "cells": [
  {
   "cell_type": "markdown",
   "id": "613e531e",
   "metadata": {},
   "source": [
    "1. Verificación de la Calidad de los Datos\n",
    "\n",
    "Objetivo: Asegurar que los datos extraídos, transformados y cargados cumplan con los estándares de calidad requeridos para el análisis.\n",
    "\n",
    "1.1 Pruebas Realizadas\n",
    "\n",
    "Prueba de Duplicados:\n",
    "\n",
    "Verificación de claves primarias duplicadas en estudiantes, contexto, predicciones y proyectos."
   ]
  },
  {
   "cell_type": "code",
   "execution_count": null,
   "id": "31f60581",
   "metadata": {},
   "outputs": [],
   "source": [
    "prueba_duplicados = \"\"\"\n",
    "SELECT id, COUNT(*) FROM estudiantes GROUP BY id HAVING COUNT(*) > 1;\n",
    "SELECT id_contexto, COUNT(*) FROM contexto GROUP BY id_contexto HAVING COUNT(*) > 1;\n",
    "SELECT id, COUNT(*) FROM predicciones GROUP BY id HAVING COUNT(*) > 1;\n",
    "SELECT id_proyecto, COUNT(*) FROM proyectos GROUP BY id_proyecto HAVING COUNT(*) > 1;\n",
    "\"\"\""
   ]
  },
  {
   "cell_type": "code",
   "execution_count": null,
   "id": "4e061f23",
   "metadata": {},
   "outputs": [],
   "source": [
    "prueba_duplicados.info()\n",
    "print(prueba_duplicados.info())"
   ]
  },
  {
   "cell_type": "markdown",
   "id": "18f6b949",
   "metadata": {},
   "source": [
    "2. Prueba de Valores Nulos en Campos Clave:\n",
    "\n",
    "Verificación de valores nulos en claves foráneas como id_estudiante y proyecto_recomendado."
   ]
  },
  {
   "cell_type": "code",
   "execution_count": null,
   "id": "4ce12239",
   "metadata": {},
   "outputs": [],
   "source": [
    "prueba_valores_nulos_clave = \"\"\"\n",
    "SELECT * FROM contexto WHERE id_estudiante IS NULL;\n",
    "SELECT * FROM predicciones WHERE id_estudiante IS NULL;\n",
    "SELECT * FROM predicciones WHERE proyecto_recomendado IS NULL;\n",
    "\"\"\""
   ]
  },
  {
   "cell_type": "code",
   "execution_count": null,
   "id": "8ca85caf",
   "metadata": {},
   "outputs": [],
   "source": [
    "prueba_valores_nulos_clave.info()\n",
    "print(prueba_valores_nulos_clave.info())"
   ]
  },
  {
   "cell_type": "markdown",
   "id": "a02284bf",
   "metadata": {},
   "source": [
    "3. Prueba de Consistencia de Tipos de Datos:\n",
    "\n",
    "Edad fuera de rango y probabilidad de empleo no entre 0 y 1."
   ]
  },
  {
   "cell_type": "code",
   "execution_count": null,
   "id": "3faaeb05",
   "metadata": {},
   "outputs": [],
   "source": [
    "pruebas_consistencias = \"\"\"SELECT * FROM estudiantes WHERE edad < 0 OR edad > 100;\n",
    "SELECT * FROM predicciones WHERE probabilidad_empleo < 0 OR probabilidad_empleo > 1;\"\"\""
   ]
  },
  {
   "cell_type": "code",
   "execution_count": null,
   "id": "bd781aa0",
   "metadata": {},
   "outputs": [],
   "source": [
    "pruebas_consistencias.info()\n",
    "print(pruebas_consistencias.info())"
   ]
  },
  {
   "cell_type": "markdown",
   "id": "49281af2",
   "metadata": {},
   "source": [
    "4. Integridad Referencial:\n",
    "\n",
    "Verificación de claves foráneas sin correspondencia."
   ]
  },
  {
   "cell_type": "code",
   "execution_count": null,
   "id": "931a147b",
   "metadata": {},
   "outputs": [],
   "source": [
    "integridad_referencial = \"\"\"\n",
    "SELECT c.* FROM contexto c LEFT JOIN estudiantes e ON c.id_estudiante = e.id WHERE e.id IS NULL;\n",
    "SELECT p.* FROM predicciones p LEFT JOIN estudiantes e ON p.id_estudiante = e.id WHERE e.id IS NULL;\n",
    "SELECT p.* FROM predicciones p LEFT JOIN proyectos pr ON p.proyecto_recomendado = pr.id_proyecto WHERE pr.id_proyecto IS NULL;\n",
    "\"\"\""
   ]
  },
  {
   "cell_type": "code",
   "execution_count": null,
   "id": "57880564",
   "metadata": {},
   "outputs": [],
   "source": [
    "integridad_referencial.info()\n",
    "print(integridad_referencial.info())"
   ]
  },
  {
   "cell_type": "markdown",
   "id": "a2720d5f",
   "metadata": {},
   "source": [
    "5. Verificación de Reglas de Negocio:\n",
    "\n",
    "Emails inválidos y tecnologías no definidas en proyectos."
   ]
  },
  {
   "cell_type": "code",
   "execution_count": null,
   "id": "7a801898",
   "metadata": {},
   "outputs": [],
   "source": [
    "reglas_negocio = \"\"\"\n",
    "SELECT * FROM estudiantes WHERE email NOT LIKE '%@%.%';\n",
    "SELECT * FROM proyectos WHERE tecnologias IS NULL OR LEN(tecnologias) = 0;\n",
    "\"\"\""
   ]
  },
  {
   "cell_type": "code",
   "execution_count": null,
   "id": "51445e40",
   "metadata": {},
   "outputs": [],
   "source": [
    "reglas_negocio.info()\n",
    "print(reglas_negocio.info())"
   ]
  }
 ],
 "metadata": {
  "language_info": {
   "name": "python"
  }
 },
 "nbformat": 4,
 "nbformat_minor": 5
}
